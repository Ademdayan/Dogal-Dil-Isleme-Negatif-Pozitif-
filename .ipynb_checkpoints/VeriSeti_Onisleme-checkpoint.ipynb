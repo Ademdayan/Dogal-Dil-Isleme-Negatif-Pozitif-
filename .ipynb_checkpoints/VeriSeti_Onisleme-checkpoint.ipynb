{
 "cells": [
  {
   "cell_type": "code",
   "execution_count": null,
   "metadata": {},
   "outputs": [],
   "source": [
    "import string\n",
    "import re\n",
    "import nltk\n",
    "from nltk.corpus import stopwords\n",
    "\n",
    "\n",
    "noktalama = string.punctuation\n",
    "etkisiz = stopwords.words('turkish')\n",
    "print(noktalama)\n",
    "print(etkisiz)"
   ]
  },
  {
   "cell_type": "code",
   "execution_count": null,
   "metadata": {},
   "outputs": [],
   "source": [
    "for d in data['review'].head():\n",
    "    print(d+ \"\\n----------------------\")\n",
    "    #etkisiz kelimelerin atilmasi\n",
    "    for word in d.split():\n",
    "        if word not in etkisiz and not word.isnumeric():\n",
    "            temp += word + ' '\n",
    "    print(temp+ \"\\n********************\")"
   ]
  }
 ],
 "metadata": {
  "kernelspec": {
   "display_name": "Python 3 (ipykernel)",
   "language": "python",
   "name": "python3"
  },
  "language_info": {
   "codemirror_mode": {
    "name": "ipython",
    "version": 3
   },
   "file_extension": ".py",
   "mimetype": "text/x-python",
   "name": "python",
   "nbconvert_exporter": "python",
   "pygments_lexer": "ipython3",
   "version": "3.9.7"
  }
 },
 "nbformat": 4,
 "nbformat_minor": 4
}
